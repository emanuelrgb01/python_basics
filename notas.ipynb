{
 "cells": [
  {
   "cell_type": "markdown",
   "id": "a7cc2275",
   "metadata": {},
   "source": [
    "# Python 3 - Notas de estudo"
   ]
  },
  {
   "cell_type": "markdown",
   "id": "a5fe811a",
   "metadata": {},
   "source": [
    "## 1. Início"
   ]
  },
  {
   "cell_type": "markdown",
   "id": "90d04578",
   "metadata": {},
   "source": [
    "Python é interpretada e de alto nível. Identação e quebra de linha é importante."
   ]
  },
  {
   "cell_type": "code",
   "execution_count": 1,
   "id": "8d8a5cc9",
   "metadata": {},
   "outputs": [
    {
     "name": "stdout",
     "output_type": "stream",
     "text": [
      "Hello World\n"
     ]
    }
   ],
   "source": [
    "print('Hello World')"
   ]
  },
  {
   "cell_type": "markdown",
   "id": "348f1fa3",
   "metadata": {},
   "source": [
    "Utiliza-se uma barra invertida para indicar quebra de linha."
   ]
  },
  {
   "cell_type": "code",
   "execution_count": 2,
   "id": "25ee4b5a",
   "metadata": {},
   "outputs": [
    {
     "data": {
      "text/plain": [
       "3"
      ]
     },
     "execution_count": 2,
     "metadata": {},
     "output_type": "execute_result"
    }
   ],
   "source": [
    "1 \\\n",
    "+ 2"
   ]
  },
  {
   "cell_type": "markdown",
   "id": "3b03716c",
   "metadata": {},
   "source": [
    "Para fazer comentários utilizamos #.\n",
    "Para comentários de várias linhas utilizamos \"\"\".\n",
    "\n",
    "Evitar utilizar comentários. Se precisa de comentário então os nomes não estão devidamente claros. Utilizarei aqui para fins de aprendizado."
   ]
  },
  {
   "cell_type": "code",
   "execution_count": 3,
   "id": "b0847eb3",
   "metadata": {},
   "outputs": [
    {
     "name": "stdout",
     "output_type": "stream",
     "text": [
      ".\n"
     ]
    }
   ],
   "source": [
    "\"\"\"\n",
    "Este é um comentário\n",
    "de várias linhas!\n",
    "\"\"\"\n",
    "print(\".\")"
   ]
  },
  {
   "cell_type": "markdown",
   "id": "54e51cd9",
   "metadata": {},
   "source": [
    "## 2. Tipos, variáveis, operadores"
   ]
  },
  {
   "cell_type": "markdown",
   "id": "50790aff",
   "metadata": {},
   "source": [
    "### 2.1 Tipos e variáveis\n",
    "\n",
    "Python é dinamicamente tipada. Isto é, ao declarar uma variável não precisamos dizer o tipo dela e o tipo utilizado pode ser alterado. Exemplo:"
   ]
  },
  {
   "cell_type": "code",
   "execution_count": 4,
   "id": "61cd19ee",
   "metadata": {},
   "outputs": [
    {
     "name": "stdout",
     "output_type": "stream",
     "text": [
      "25\n",
      "agora é uma string\n"
     ]
    }
   ],
   "source": [
    "a = 25\n",
    "\n",
    "print(a)\n",
    "\n",
    "a = \"agora é uma string\"\n",
    "print(a)"
   ]
  },
  {
   "cell_type": "markdown",
   "id": "599499a8",
   "metadata": {},
   "source": [
    "Misturar tipos nem sempre dá certo. Exemplos:"
   ]
  },
  {
   "cell_type": "code",
   "execution_count": 5,
   "id": "bd8b34e2",
   "metadata": {},
   "outputs": [
    {
     "name": "stdout",
     "output_type": "stream",
     "text": [
      "26.25\n"
     ]
    }
   ],
   "source": [
    "a = 25 # inteiro\n",
    "b = 1.25 # float\n",
    "\n",
    "print(a + b) # funciona\n",
    "\n",
    "c = \"emanuel\" # string\n",
    "\n",
    "#print(a + c) # com erro"
   ]
  },
  {
   "cell_type": "markdown",
   "id": "48daad76",
   "metadata": {},
   "source": [
    "### 2.2 Operadores"
   ]
  },
  {
   "cell_type": "markdown",
   "id": "902de680",
   "metadata": {},
   "source": [
    "#### 2.2.1 Aritméticos\n",
    "São operadores binários, precisam de dois operandos para retornar um resultado. A notação é chamada infixa, o operador fica entre os dois operandos\n",
    "\n",
    "Soma: + \n",
    "\n",
    "Subtração: -\n",
    "\n",
    "Multiplicação: *\n",
    "\n",
    "Divisão: /\n",
    "\n",
    "Divisão, mas retornando o valor inteiro mas no formato de float: //\n",
    "\n",
    "Exponencial: **\n",
    "\n",
    "Resto: %"
   ]
  },
  {
   "cell_type": "markdown",
   "id": "94f219e3",
   "metadata": {},
   "source": [
    "#### 2.2.2 Relacionais\n",
    "\n",
    "Comparam tanto o valor quanto o tipo também. Retornam True ou False.\n",
    "\n",
    "Maior e maior-igual: > e >=\n",
    "\n",
    "Menor e menor-igual: < e <=\n",
    "\n",
    "Diferente e igual: != e  =="
   ]
  },
  {
   "cell_type": "markdown",
   "id": "b996ece4",
   "metadata": {},
   "source": [
    "#### 2.2.3 Atribuição\n",
    "\n",
    "'a = 9' significa \"a recebe 3\"\n",
    "\n",
    "'a = a + 16' significa \"a recebe o valor anterior de a somado com 16\"\n",
    "\n",
    "'a += 16' forma mais reduzida de fazer o mesmo acima, posso trocar pelos outros operadores aritméticos e vai funcionar."
   ]
  },
  {
   "cell_type": "markdown",
   "id": "3815d549",
   "metadata": {},
   "source": [
    "#### 2.2.4 Lógicos\n",
    "\n",
    "0 é False e 1 (como qualquer outro número diferente de zero) é True.\n",
    "\n",
    "Funcionam como na matemática, lembrar da tabela verdade.\n",
    "\n",
    "or (ou), and (e), xor (ou 'exclusivo'), not (negação, é o 'não' ou '~'. é unário)\n",
    "\n",
    "##### Bit-a-bit (bitwise)\n",
    "\n",
    "Compara bit por bit individualmente, montando um número e retorna ele.\n",
    "& (e), | (ou), ^ (ou 'exclusivo').\n",
    "\n",
    "https://realpython.com/python-bitwise-operators/"
   ]
  },
  {
   "cell_type": "markdown",
   "id": "77a99f97",
   "metadata": {},
   "source": [
    "#### 2.2.5 Unários\n",
    "\n",
    "Não é possível fazer 'numero++' ou 'numero--' como em outras linguagens.\n",
    "\n",
    "Usar '+' ou '-' antes de um número vai mudar o sinal."
   ]
  },
  {
   "cell_type": "markdown",
   "id": "bcdd3ef0",
   "metadata": {},
   "source": [
    "#### 2.2.6 Ternários\n",
    "\n",
    "Segue uma das sintaxes:\n",
    "\n",
    "    (caso False, caso True)[condicao]\n",
    "    ('caso True' if condicao else 'caso False')\n",
    "    \n",
    "Exemplo:"
   ]
  },
  {
   "cell_type": "code",
   "execution_count": 6,
   "id": "0c4c58bb",
   "metadata": {},
   "outputs": [
    {
     "name": "stdout",
     "output_type": "stream",
     "text": [
      "Vou assistir aula 1\n",
      "Vou assistir aula 2\n"
     ]
    }
   ],
   "source": [
    "estou_doente = False\n",
    "\n",
    "assistir_aula = ('Vou', 'Não vou')[estou_doente] + ' assistir aula 1'\n",
    "print(assistir_aula)\n",
    "\n",
    "assistir_aula = ('Não vou' if estou_doente else 'Vou') + ' assistir aula 2'\n",
    "print(assistir_aula)"
   ]
  },
  {
   "cell_type": "markdown",
   "id": "f97abcd1",
   "metadata": {},
   "source": [
    "#### 2.2.7 Membro e Identidade\n",
    "\n",
    "Membro: verifica se algo é membro de um array, retorna True ou False\n",
    "\n",
    "Identidade: verifica se duas coisas possuem o mesmo valor, retorna True ou False. No caso de listas, compara o endereço de memória ( se é o mesmo objeto)."
   ]
  },
  {
   "cell_type": "code",
   "execution_count": 7,
   "id": "940615e6",
   "metadata": {},
   "outputs": [
    {
     "name": "stdout",
     "output_type": "stream",
     "text": [
      "False\n",
      "False\n"
     ]
    },
    {
     "data": {
      "text/plain": [
       "False"
      ]
     },
     "execution_count": 7,
     "metadata": {},
     "output_type": "execute_result"
    }
   ],
   "source": [
    "# Membro\n",
    "nomes = ['Ana', 'Maria', 'José', 'João']\n",
    "Emanuel_in_nomes = 'Emanuel' in nomes\n",
    "print(Emanuel_in_nomes)\n",
    "Ana_in_nomes = 'Ana' not in nomes\n",
    "print(Ana_in_nomes)\n",
    "\n",
    "# Identidade\n",
    "a = 2\n",
    "b = a\n",
    "c = 2\n",
    "\n",
    "b is a #true\n",
    "a is not b #false\n",
    "\n",
    "\n",
    "lista_1 = [1, 2, 3]\n",
    "lista_2 = [1, 2, 3]\n",
    "lista_3 = lista_1\n",
    "\n",
    "lista_1 is lista_3 #true\n",
    "lista_1 is lista_2 #false"
   ]
  },
  {
   "cell_type": "markdown",
   "id": "d498c85d",
   "metadata": {},
   "source": [
    "### 2.3 Conversão de tipos"
   ]
  },
  {
   "cell_type": "markdown",
   "id": "4c96cdf4",
   "metadata": {},
   "source": [
    "Pode-se utilizar a função type() com argumentos e ela retornará o tipo do argumento. Tipos: str, int, float"
   ]
  },
  {
   "cell_type": "code",
   "execution_count": 8,
   "id": "a2e7c7e9",
   "metadata": {},
   "outputs": [
    {
     "data": {
      "text/plain": [
       "str"
      ]
     },
     "execution_count": 8,
     "metadata": {},
     "output_type": "execute_result"
    }
   ],
   "source": [
    "type('a')"
   ]
  },
  {
   "cell_type": "markdown",
   "id": "13e539ea",
   "metadata": {},
   "source": [
    "Ao fazer, por exemplo, 9 + '16' o python retorna erro devido aos tipos de 9 e '16' serem int e str. Para corrigir isso, pode-se fazer int('16'), se quiser a soma de inteiros, ou str(9) se quiser a soma de strings (concatenação)."
   ]
  },
  {
   "cell_type": "code",
   "execution_count": 9,
   "id": "3c1c3d28",
   "metadata": {},
   "outputs": [
    {
     "name": "stdout",
     "output_type": "stream",
     "text": [
      "25\n",
      "169\n"
     ]
    }
   ],
   "source": [
    "x = 9\n",
    "y = '16'\n",
    "\n",
    "print(x + int(y))\n",
    "print(y+str(x))"
   ]
  },
  {
   "cell_type": "markdown",
   "id": "9cdf1862",
   "metadata": {},
   "source": [
    "### 2.4 Detalhando os tipos"
   ]
  },
  {
   "cell_type": "markdown",
   "id": "3b23d3b4",
   "metadata": {},
   "source": [
    "#### 2.4.1 Números: int, float e complex"
   ]
  },
  {
   "cell_type": "markdown",
   "id": "eabae438",
   "metadata": {},
   "source": [
    "Podemos fazer dir(int), dir(float) e dir(complex) para ver as funções que estão 'embutidas'.\n",
    "\n",
    "É possível ver se um float é inteiro com is_integer(). Só é possível usar em float!"
   ]
  },
  {
   "cell_type": "code",
   "execution_count": 10,
   "id": "e5ee1cfc",
   "metadata": {},
   "outputs": [
    {
     "name": "stdout",
     "output_type": "stream",
     "text": [
      "False\n",
      "True\n"
     ]
    }
   ],
   "source": [
    "num1 = 5.333\n",
    "num2 = 5.000\n",
    "\n",
    "print(num1.is_integer())\n",
    "print(num2.is_integer())"
   ]
  },
  {
   "cell_type": "markdown",
   "id": "21c34155",
   "metadata": {},
   "source": [
    "Soma pode ser:"
   ]
  },
  {
   "cell_type": "code",
   "execution_count": 11,
   "id": "3b0a8b25",
   "metadata": {},
   "outputs": [
    {
     "data": {
      "text/plain": [
       "10.333"
      ]
     },
     "execution_count": 11,
     "metadata": {},
     "output_type": "execute_result"
    }
   ],
   "source": [
    "float.__add__(num1, num2)\n",
    "num1+num2"
   ]
  },
  {
   "cell_type": "markdown",
   "id": "f4a9346a",
   "metadata": {},
   "source": [
    "Módulo (valor absoluto)"
   ]
  },
  {
   "cell_type": "code",
   "execution_count": 12,
   "id": "f996b705",
   "metadata": {},
   "outputs": [
    {
     "data": {
      "text/plain": [
       "3.1415926"
      ]
     },
     "execution_count": 12,
     "metadata": {},
     "output_type": "execute_result"
    }
   ],
   "source": [
    "num3 = -3.1415926\n",
    "abs(num3)\n",
    "num3.__abs__()"
   ]
  },
  {
   "cell_type": "markdown",
   "id": "6b59c56f",
   "metadata": {},
   "source": [
    "#### Coerção automática"
   ]
  },
  {
   "cell_type": "markdown",
   "id": "fefcbc8a",
   "metadata": {},
   "source": [
    "Operação inteiro-inteiro pode dar float (divisão por exemplo) ou inteiro. Operação inteiro-float dá float (ainda que seja do formato x.0).\n",
    "Algumas operações ele assume que não há ambiguidade:"
   ]
  },
  {
   "cell_type": "code",
   "execution_count": 13,
   "id": "f5bebe67",
   "metadata": {},
   "outputs": [
    {
     "name": "stdout",
     "output_type": "stream",
     "text": [
      "Python assume True como 1: 2 + True = 3\n",
      "Python assume False como 0: 2 + False = 2\n",
      "Soma de inteiro com float: 2 + 1.25 = 3.25. E o tipo é: <class 'float'>\n"
     ]
    }
   ],
   "source": [
    "print('Python assume True como 1: 2 + True = ' + str(2+True))\n",
    "print('Python assume False como 0: 2 + False = ' + str(2+False))\n",
    "print('Soma de inteiro com float: 2 + 1.25 = ' + str(2+1.25) + '. E o tipo é: ' + str(type(3.25)))"
   ]
  },
  {
   "cell_type": "markdown",
   "id": "f2c7d6e1",
   "metadata": {},
   "source": [
    "No float do Python há o problema da representação não exata de binários. Em binários temos maior performance mas podemos ter essas perdas. Em decimal há perda de performance mas não há tal perda. \n",
    "\n",
    "Podemos importar o decimal que não tá incluso no builtins para contornar isso. dir(Decimal) mostra o que pode ser feito. Observe:"
   ]
  },
  {
   "cell_type": "code",
   "execution_count": 14,
   "id": "081d7769",
   "metadata": {
    "scrolled": true
   },
   "outputs": [
    {
     "name": "stdout",
     "output_type": "stream",
     "text": [
      "Soma nao exata: 3.3000000000000003\n",
      "3.333333333\n",
      "3.300000000\n"
     ]
    }
   ],
   "source": [
    "print('Soma nao exata: ' + str(1.1 + 2.2))\n",
    "\n",
    "from decimal import Decimal, getcontext\n",
    "\n",
    "getcontext().prec = 10 # Precisao\n",
    "print(Decimal(10) / Decimal(3))\n",
    "print(Decimal(1.1) + Decimal(2.2))"
   ]
  },
  {
   "cell_type": "markdown",
   "id": "680d41a2",
   "metadata": {},
   "source": [
    "#### 2.4.2 Strings"
   ]
  },
  {
   "cell_type": "markdown",
   "id": "ef6e9547",
   "metadata": {},
   "source": [
    "Uma string possui todos seus elementos (letras) indexadas, a primeira tem índice 0 e assim por diante. Para acessar, basta usar: nome_da_string[indice]. Um elemento de uma string não pode ser mudado, uma string é imutável. \n",
    "\n",
    "Para escrever aspa simples ou dupla no meio de uma string basta usar \\ antes desse elemento.\n",
    "\n",
    "Para textos com múltiplas linhas basta usar aspas simples/duplas três vezes no começo e no fim. \\n e \\t ajuda também."
   ]
  },
  {
   "cell_type": "code",
   "execution_count": 15,
   "id": "4b23e40a",
   "metadata": {
    "scrolled": true
   },
   "outputs": [
    {
     "name": "stdout",
     "output_type": "stream",
     "text": [
      "T\n",
      "As duas formas são equivalentes\n",
      "linha 1\n",
      "linha 2\n"
     ]
    }
   ],
   "source": [
    "quote = \"Tell the truth.\"\n",
    "print(quote[0])\n",
    "\n",
    "# quote[14] = \"!\" #gera erro\n",
    "\n",
    "#usar_aspas_simples = 'emanuel's notebook' #gera erro\n",
    "usar_aspas_simples_1 = \"emanuel's notebook\"\n",
    "usar_aspas_simples_2 = 'emanuel\\'s notebook'\n",
    "\n",
    "\n",
    "print('As duas formas' \\\n",
    "      + (' ' if usar_aspas_simples_1 == usar_aspas_simples_2 else ' não ') \\\n",
    "      + 'são equivalentes')\n",
    "\n",
    "varias_linhas = '''linha 1\n",
    "linha 2'''\n",
    "print(varias_linhas)"
   ]
  },
  {
   "cell_type": "markdown",
   "id": "3bf0a386",
   "metadata": {},
   "source": [
    "##### Como pegar pedaços de uma string?\n",
    "\n",
    "Para acessar um caractere específico, nome\\[indice\\]. Indices negativos funcionam, eles pegam da direita pra esquerda com o último caractere sendo o índice -1.\n",
    "\n",
    "Para pegar um pedaço específico com mais de um caractere basta usar nome\\[indice_inicial:indice_final\\], o indice inicial entra mas o final não entra. Em notação de cojuntos é como um \\[indice_inicial, indice_final). Caso algum dos indices estejam omitidos, será interpretado como o máximo possível no contexto. Um bizu para inverter string é nome\\[::-1\\], i.e., todos os elementos com passo de -1.\n",
    "\n",
    "Podemos usar o operador membro normalmente.\n",
    "\n",
    "len(nome) retorna o nome.\n",
    "\n",
    "nome.lower() retorna minúsculo e nome.upper() em maiúsculo.\n",
    "\n",
    "nome.split() retorna o que está separado por espaço em branco. Se eu usar algum caractere entre os parentesis vai separar usando esse caractere como base."
   ]
  },
  {
   "cell_type": "code",
   "execution_count": 16,
   "id": "fc7befd2",
   "metadata": {
    "scrolled": false
   },
   "outputs": [
    {
     "name": "stdout",
     "output_type": "stream",
     "text": [
      "Reinaldo\n",
      "el Rei\n",
      "odlanieR leunamE\n"
     ]
    },
    {
     "data": {
      "text/plain": [
       "['Emanuel', 'Reinaldo']"
      ]
     },
     "execution_count": 16,
     "metadata": {},
     "output_type": "execute_result"
    }
   ],
   "source": [
    "nome = 'Emanuel Reinaldo'\n",
    "print(nome[8:])\n",
    "print(nome[5:11])\n",
    "print(nome[::-1])\n",
    "nome.split()"
   ]
  },
  {
   "cell_type": "markdown",
   "id": "941c2562",
   "metadata": {},
   "source": [
    "#####  Operadores mágicos com strings\n",
    "\n",
    "https://www.tutorialsteacher.com/python/magic-methods-in-python\n",
    "\n",
    "https://python-course.eu/\n",
    "\n",
    "Exemplo: Soma de strings pode ser com +, string1.\\__add\\__(string2) ou str.\\__add\\__(string1, string2)"
   ]
  },
  {
   "cell_type": "code",
   "execution_count": 17,
   "id": "b9628418",
   "metadata": {},
   "outputs": [
    {
     "name": "stdout",
     "output_type": "stream",
     "text": [
      "Emanuel ReinaldoEmanuel Reinaldo\n",
      "Emanuel ReinaldoEmanuel Reinaldo\n",
      "Emanuel ReinaldoEmanuel Reinaldo\n"
     ]
    }
   ],
   "source": [
    "print(nome+nome)\n",
    "print(nome.__add__(nome))\n",
    "print(str.__add__(nome, nome))"
   ]
  },
  {
   "cell_type": "markdown",
   "id": "c07be699",
   "metadata": {},
   "source": [
    "#### 2.4.3 Lista"
   ]
  },
  {
   "cell_type": "markdown",
   "id": "af4c0b3a",
   "metadata": {},
   "source": [
    "Usa o formato lista = \\[\\]. É uma sequência indexada (a partir do zero), mutável e aceita tipos diferentes\n",
    "\n",
    "len(lista) retorna o tamanho da lista\n",
    "\n",
    "lista.append(elemento) adiciona um novo elemento\n",
    "\n",
    "lista.remove(elemento) exclui o elemento da lista. Deletar via índice basta fazer del lista\\[indice\\]\n",
    "\n",
    "lista.reverse() inverte a lista\n",
    "\n",
    "lista.index(elemento) retorna o indice do elemento.\n",
    "\n",
    "Acessamos elementos de forma análoga a strings, com as mesmas ideias para os negativos"
   ]
  },
  {
   "cell_type": "code",
   "execution_count": 18,
   "id": "cfec5c57",
   "metadata": {},
   "outputs": [],
   "source": [
    "lista = []\n",
    "\n",
    "#help(list)\n"
   ]
  },
  {
   "cell_type": "markdown",
   "id": "529aa687",
   "metadata": {},
   "source": [
    "#### 2.4.4 Tupla"
   ]
  },
  {
   "cell_type": "markdown",
   "id": "15c29d06",
   "metadata": {},
   "source": [
    "A diferença para uma lista é que uma tupla não é modificável"
   ]
  },
  {
   "cell_type": "code",
   "execution_count": 19,
   "id": "6082bbed",
   "metadata": {},
   "outputs": [
    {
     "data": {
      "text/plain": [
       "tuple"
      ]
     },
     "execution_count": 19,
     "metadata": {},
     "output_type": "execute_result"
    }
   ],
   "source": [
    "tupla = tuple()\n",
    "tupla = ('um',)\n",
    "type(tupla)\n"
   ]
  },
  {
   "cell_type": "markdown",
   "id": "493d9c4b",
   "metadata": {},
   "source": [
    "#### 2.4.5 Dicionários"
   ]
  },
  {
   "cell_type": "markdown",
   "id": "23548bb4",
   "metadata": {},
   "source": [
    "Estruturas chave-valor. Não é objeto em python. Pode adicionar mais elementos em uma chave com pessoa\\['chave'\\].append('coisa a ser adicionada'), desde que essa chave ja seja uma lista. Metodo pop retorna e remove a chave dada e del apenas remove. Método update adiciona chave-valor, pessoa.clear() apaga as informações"
   ]
  },
  {
   "cell_type": "code",
   "execution_count": 20,
   "id": "d13559b0",
   "metadata": {
    "scrolled": true
   },
   "outputs": [
    {
     "name": "stdout",
     "output_type": "stream",
     "text": [
      "dict_keys(['nome', 'idade', 'curso', 'trabalho'])\n",
      "dict_values(['Emanuel Reinaldo', 20, 'Engenharia Eletrônica', ['data', 'dev']])\n",
      "dict_items([('nome', 'Emanuel Reinaldo'), ('idade', 20), ('curso', 'Engenharia Eletrônica'), ('trabalho', ['data', 'dev'])])\n",
      "Emanuel Reinaldo\n",
      "[]\n"
     ]
    },
    {
     "data": {
      "text/plain": [
       "{'nome': 'Emanuel Reinaldo',\n",
       " 'idade': 20,\n",
       " 'curso': 'Engenharia Eletrônica',\n",
       " 'trabalho': ['data', 'dev', 'finance']}"
      ]
     },
     "execution_count": 20,
     "metadata": {},
     "output_type": "execute_result"
    }
   ],
   "source": [
    "pessoa = {'nome': 'Emanuel Reinaldo', 'idade': 20, 'curso': 'Engenharia Eletrônica', 'trabalho': ['data', 'dev']}\n",
    "print(pessoa.keys())\n",
    "print(pessoa.values())\n",
    "print(pessoa.items())\n",
    "print(pessoa.get('nome'))\n",
    "print(pessoa.get('inexistente', []))\n",
    "pessoa['trabalho'].append(\"finance\")\n",
    "pessoa"
   ]
  },
  {
   "cell_type": "markdown",
   "id": "492083da",
   "metadata": {},
   "source": [
    "#### 2.4.6 Conjuntos (set)"
   ]
  },
  {
   "cell_type": "markdown",
   "id": "a2d8985b",
   "metadata": {},
   "source": [
    "Não é indexado, delimitado por chaves. Definindo por set('string') o python fraciona a string e seus caracteres viram elementos. É bem análogo aos conjuntos da matemática, com igualdade, união, interseção, subconjunto, diferença, operador membro funciona como um \"pertence\""
   ]
  },
  {
   "cell_type": "code",
   "execution_count": 21,
   "id": "3cdae8dc",
   "metadata": {},
   "outputs": [
    {
     "name": "stdout",
     "output_type": "stream",
     "text": [
      "<class 'set'>\n",
      "{'m', ' ', 'o', 'a', 'n', 'u', 'i', 'R', 'd', 'e', 'l', 'E'}\n"
     ]
    }
   ],
   "source": [
    "conjunto = {1, 2, 4, 8}\n",
    "print(type(conjunto))\n",
    "conjunto2 = set('Emanuel Reinaldo')\n",
    "print(conjunto2)"
   ]
  },
  {
   "cell_type": "markdown",
   "id": "cf47222c",
   "metadata": {},
   "source": [
    "### 2.5 Interpolação"
   ]
  },
  {
   "cell_type": "markdown",
   "id": "a7284a98",
   "metadata": {},
   "source": [
    "Forma 1: %d para inteiro (caso a variável seja float, vai imprimir o inteiro antes da vírgula), %s para string, %f para float. Para True/False, %r ou %s, se usar %d mostra 1 e 0\n",
    "\n",
    "Forma 2: usar {0}, {1} ... e depois da string usar .format(variavel1. variavel2, ...)\n",
    "\n",
    "Forma 3: f antes da string e colocar os nomes das variaveis ou codigo em python entre chaves.\n",
    "\n",
    "Forma 4: Template string, precisa importar"
   ]
  },
  {
   "cell_type": "code",
   "execution_count": 22,
   "id": "0f50d59f",
   "metadata": {},
   "outputs": [
    {
     "name": "stdout",
     "output_type": "stream",
     "text": [
      "Nome: Emanuel, Idade: 20, Idade real com 6 casas decimais: 20.750000, Idade com 3 casas decimais: 20.750, Idade real aproximada: 21 \n",
      "Nome: Emanuel, Idade: 20.75\n",
      "Nome: Emanuel, Idade: 20.75\n",
      "Nome: Emanuel, Idade: 20.75\n"
     ]
    }
   ],
   "source": [
    "from string import Template\n",
    "nome, idade = 'Emanuel', 20.75\n",
    "\n",
    "print('Nome: %s, Idade: %d, Idade real com 6 casas decimais: %f, Idade com 3 casas decimais: %.3f, Idade real aproximada: %0.f ' % (nome, idade, idade, idade, idade))\n",
    "print('Nome: {0}, Idade: {1}'.format(nome, idade))\n",
    "print(f'Nome: {nome}, Idade: {idade}')\n",
    "\n",
    "strng = Template('Nome: $n, Idade: $i')\n",
    "print(strng.substitute(n=nome, i=idade))"
   ]
  },
  {
   "cell_type": "markdown",
   "id": "0c673978",
   "metadata": {},
   "source": [
    "## 3. Builtins"
   ]
  },
  {
   "cell_type": "markdown",
   "id": "7a5ccbc8",
   "metadata": {},
   "source": [
    "É um módulo de coisas que já estão inclusas no Python, logo não precisam ser importadas para utilizarmos. É identificado como \\__builtins__\n",
    "\n",
    "Em python, é convencionado que identificadores circundados por dois underscores (também chamado de underline _) são identificadores especiais, normalmente vem da própia linguagem.\n",
    "\n",
    "função dir() -> lista todos os membros do escopo atual, i.e., variáveis declaradas, elementos da própria liguagem... Pode-se acessar o dir() do builtins:"
   ]
  },
  {
   "cell_type": "code",
   "execution_count": 23,
   "id": "6e07db6e",
   "metadata": {},
   "outputs": [
    {
     "name": "stdout",
     "output_type": "stream",
     "text": [
      "Help on built-in function dir in module builtins:\n",
      "\n",
      "dir(...)\n",
      "    dir([object]) -> list of strings\n",
      "    \n",
      "    If called without an argument, return the names in the current scope.\n",
      "    Else, return an alphabetized list of names comprising (some of) the attributes\n",
      "    of the given object, and of attributes reachable from it.\n",
      "    If the object supplies a method named __dir__, it will be used; otherwise\n",
      "    the default dir() logic is used and returns:\n",
      "      for a module object: the module's attributes.\n",
      "      for a class object:  its attributes, and recursively the attributes\n",
      "        of its bases.\n",
      "      for any other object: its attributes, its class's attributes, and\n",
      "        recursively the attributes of its class's base classes.\n",
      "\n"
     ]
    }
   ],
   "source": [
    "dir()\n",
    "dir(__builtins__)\n",
    "help(dir)"
   ]
  },
  {
   "cell_type": "markdown",
   "id": "8222f313",
   "metadata": {},
   "source": [
    "## 4. Shebang"
   ]
  },
  {
   "cell_type": "markdown",
   "id": "5ac0f506",
   "metadata": {},
   "source": [
    "https://docs.python.org/3/using/windows.html#customizing-default-python-versions\n",
    "\n",
    "https://docs.python.org/3/using/windows.html?highlight=shebang#shebang-lines"
   ]
  },
  {
   "cell_type": "markdown",
   "id": "e9781397",
   "metadata": {},
   "source": [
    "## 5. Modularização"
   ]
  },
  {
   "cell_type": "markdown",
   "id": "7b2d9ff9",
   "metadata": {},
   "source": [
    "Em geral, para códigos reutilizáveis e organizados podemos separá-los em módulos. Colocar uma condição $if __name__ == '__main__'$ vai impedir uma execução automática do módulo.\n",
    "https://www.freecodecamp.org/news/whats-in-a-python-s-name-506262fe61e8/"
   ]
  },
  {
   "cell_type": "markdown",
   "id": "c1922e02",
   "metadata": {},
   "source": [
    "## 6. Estruturas de controle"
   ]
  },
  {
   "cell_type": "markdown",
   "id": "5309e75b",
   "metadata": {},
   "source": [
    "### 6.1 if, elif, else"
   ]
  },
  {
   "cell_type": "markdown",
   "id": "ac2b1db5",
   "metadata": {},
   "source": [
    "if -> testa se algo é verdadeiro, caso seja vai executar o bloco de código correspondente.\n",
    "\n",
    "elif -> é um \"else if\", usado após o if, caso o if ou elif anterior nao seja verdadeiro vai testar esse elif e aí ele funciona como um if.\n",
    "\n",
    "else -> é o default, caso o if ou todos if e elif acima dele nao sejam verdadeiros, será executado o bloco com o else."
   ]
  },
  {
   "cell_type": "code",
   "execution_count": 24,
   "id": "5e1c6c26",
   "metadata": {},
   "outputs": [
    {
     "name": "stdout",
     "output_type": "stream",
     "text": [
      "R\n"
     ]
    }
   ],
   "source": [
    "def conceito(nota):\n",
    "    nota = float(nota)\n",
    "    if nota > 10 or nota < 0:\n",
    "        return 'inválido'\n",
    "    elif nota >= 9.5:\n",
    "        return 'L'\n",
    "    elif nota >= 8.5:\n",
    "        return 'MB'\n",
    "    elif nota >= 7.5:\n",
    "        return 'B'\n",
    "    elif nota >= 6.5:\n",
    "        return 'R'\n",
    "    elif nota >= 5.0:\n",
    "        return 'D'\n",
    "    else:\n",
    "        return 'I'\n",
    "\n",
    "print(conceito(7.3))"
   ]
  },
  {
   "cell_type": "markdown",
   "id": "8222a7ec",
   "metadata": {},
   "source": [
    "### 6.2 while"
   ]
  },
  {
   "cell_type": "markdown",
   "id": "9df93ec0",
   "metadata": {},
   "source": [
    "É um laço de repetição, enquanto algo for verdadeiro vai executar o bloco de código associado.\n",
    "\n",
    "Os 'indexadores' continuam existindo dentro do escopo de definição após o for ja ter acabado!"
   ]
  },
  {
   "cell_type": "code",
   "execution_count": 25,
   "id": "645379fe",
   "metadata": {},
   "outputs": [
    {
     "name": "stdout",
     "output_type": "stream",
     "text": [
      "errooou 7\n",
      "errooou 6\n",
      "errooou 7\n",
      "errooou 5\n",
      "errooou 1\n",
      "errooou 3\n",
      "errooou 2\n",
      "errooou 2\n",
      "errooou 7\n",
      "errooou 8\n",
      "errooou 3\n",
      "errooou 9\n",
      "deu bom! na 13 tentativa\n"
     ]
    }
   ],
   "source": [
    "from random import randint\n",
    "\n",
    "numero_informado = 4\n",
    "numero_secreto = randint(0, 9)\n",
    "numero_repeticoes = 1\n",
    "\n",
    "while numero_secreto != numero_informado:\n",
    "    print(f'errooou {numero_secreto}')\n",
    "    numero_secreto = randint(0, 9)\n",
    "    numero_repeticoes = numero_repeticoes + 1\n",
    "\n",
    "print(f'deu bom! na {numero_repeticoes} tentativa')"
   ]
  },
  {
   "cell_type": "markdown",
   "id": "0973f072",
   "metadata": {},
   "source": [
    "### 6.3 for"
   ]
  },
  {
   "cell_type": "markdown",
   "id": "bd5f770d",
   "metadata": {},
   "source": [
    "É quando fazemos um laço repetições mas temos uma quantidade determinada de repeticoes. Usado para percorrer uma lista, tupla...\n",
    "\n",
    "é possível associar o for a um else e aí ao final da execução do for será executado o else. Caso seja executado um break para interrupcao do for, o else nao sera executado."
   ]
  },
  {
   "cell_type": "code",
   "execution_count": 26,
   "id": "e722b792",
   "metadata": {
    "scrolled": false
   },
   "outputs": [
    {
     "name": "stdout",
     "output_type": "stream",
     "text": [
      "1 * 1 = 1\n",
      "1 * 2 = 2\n",
      "1 * 3 = 3\n",
      "1 * 4 = 4\n",
      "1 * 5 = 5\n",
      "1 * 6 = 6\n",
      "1 * 7 = 7\n",
      "1 * 8 = 8\n",
      "1 * 9 = 9\n",
      "2 * 1 = 2\n",
      "2 * 2 = 4\n",
      "2 * 3 = 6\n",
      "2 * 4 = 8\n",
      "2 * 5 = 10\n",
      "2 * 6 = 12\n",
      "2 * 7 = 14\n",
      "2 * 8 = 16\n",
      "2 * 9 = 18\n"
     ]
    }
   ],
   "source": [
    "for i in range(1, 3):\n",
    "    for j in range(1, 10):\n",
    "        print(f'{i} * {j} = {i*j}')"
   ]
  },
  {
   "cell_type": "code",
   "execution_count": 27,
   "id": "31d3eead",
   "metadata": {
    "scrolled": true
   },
   "outputs": [
    {
     "name": "stdout",
     "output_type": "stream",
     "text": [
      "E--m--a--n--u--e--l--mesma linha\n"
     ]
    }
   ],
   "source": [
    "nome = 'Emanuel'\n",
    "for letra in nome:\n",
    "    print(letra, end='--')\n",
    "print('mesma linha')"
   ]
  },
  {
   "cell_type": "code",
   "execution_count": 28,
   "id": "d7e1af59",
   "metadata": {
    "scrolled": true
   },
   "outputs": [
    {
     "name": "stdout",
     "output_type": "stream",
     "text": [
      "labrador\n",
      "fila\n",
      "pitbull\n",
      "pinscher\n",
      "vira lata\n",
      "pastor alemao\n",
      "1) labrador\n",
      "2) fila\n",
      "3) pitbull\n",
      "4) pinscher\n",
      "5) vira lata\n",
      "6) pastor alemao\n"
     ]
    }
   ],
   "source": [
    "caes = ['labrador', 'fila', 'pitbull', 'pinscher', 'vira lata', 'pastor alemao']\n",
    "for raca in caes:\n",
    "    print(raca)\n",
    "    \n",
    "for posicao, raca in enumerate(caes):\n",
    "    print(f'{posicao + 1})', raca)"
   ]
  },
  {
   "cell_type": "code",
   "execution_count": 29,
   "id": "61df2df3",
   "metadata": {},
   "outputs": [
    {
     "name": "stdout",
     "output_type": "stream",
     "text": [
      "dom\n",
      "seg\n",
      "ter\n",
      "qua\n",
      "qui\n",
      "sex\n",
      "sab\n"
     ]
    }
   ],
   "source": [
    "dias_semana = ('dom', 'seg', 'ter', 'qua', 'qui', 'sex', 'sab')\n",
    "for dia in dias_semana:\n",
    "    print(dia)"
   ]
  },
  {
   "cell_type": "code",
   "execution_count": 30,
   "id": "9109ecdf",
   "metadata": {
    "scrolled": false
   },
   "outputs": [
    {
     "name": "stdout",
     "output_type": "stream",
     "text": [
      "m\n",
      "a\n",
      "n\n",
      "u\n",
      "e\n",
      "l\n"
     ]
    }
   ],
   "source": [
    "for letra in set('emanuel'):\n",
    "    print(letra)"
   ]
  },
  {
   "cell_type": "markdown",
   "id": "11dabcf8",
   "metadata": {},
   "source": [
    "#### Percorrendo dicionário\n",
    "\n",
    "Para percorrer as chaves:\n",
    "\n",
    "    for chave in dicionario\n",
    "    \n",
    "Para percorrer os valoes:\n",
    "    \n",
    "    for chave in dicionario.values()\n",
    "    \n",
    "Para percorrer ambos:\n",
    "    \n",
    "    for chave, valor in dicionario.items()"
   ]
  },
  {
   "cell_type": "code",
   "execution_count": 31,
   "id": "5203781b",
   "metadata": {},
   "outputs": [],
   "source": [
    "produto = {'nome': 'caneta', 'preco': 3.75, 'estoque': 47}"
   ]
  },
  {
   "cell_type": "markdown",
   "id": "140e386b",
   "metadata": {},
   "source": [
    "#### break, continue\n",
    "\n",
    "continue interrompe a iteração no ponto que ele é acionado e já 'pula' para a próxima iteração\n",
    "\n",
    "break interrompe o laço\n",
    "\n",
    "note que no exemplo abaixo não há impressão dos números pares e a execução termina quando chega no x=7"
   ]
  },
  {
   "cell_type": "code",
   "execution_count": 32,
   "id": "d917a1b5",
   "metadata": {},
   "outputs": [
    {
     "name": "stdout",
     "output_type": "stream",
     "text": [
      "1\n",
      "3\n",
      "5\n",
      "acabou\n"
     ]
    }
   ],
   "source": [
    "for x in range(1, 16):\n",
    "    if x % 2 == 0:\n",
    "        continue\n",
    "    if x == 7:\n",
    "        print('acabou')\n",
    "        break\n",
    "    print(x)"
   ]
  },
  {
   "cell_type": "markdown",
   "id": "39ac85dd",
   "metadata": {},
   "source": [
    "### 6.4 simulando um switch"
   ]
  },
  {
   "cell_type": "markdown",
   "id": "d1128079",
   "metadata": {},
   "source": [
    "Não existe nativamente na linguagem, vamos simular sua criação:"
   ]
  },
  {
   "cell_type": "code",
   "execution_count": 33,
   "id": "79098fb3",
   "metadata": {},
   "outputs": [
    {
     "name": "stdout",
     "output_type": "stream",
     "text": [
      "0: invalido\n",
      "1: dom\n",
      "2: seg\n",
      "3: ter\n",
      "4: qua\n",
      "5: qui\n",
      "6: sex\n",
      "7: sab\n",
      "8: invalido\n"
     ]
    }
   ],
   "source": [
    "def get_dia_semana(dia):\n",
    "    dias = {\n",
    "        1: 'dom',\n",
    "        2: 'seg',\n",
    "        3: 'ter',\n",
    "        4: 'qua',\n",
    "        5: 'qui',\n",
    "        6: 'sex',\n",
    "        7: 'sab',\n",
    "    }\n",
    "    return dias.get(dia, 'invalido')\n",
    "\n",
    "for dia in range(0, 9):\n",
    "    print(f'{dia}: {get_dia_semana(dia)}')"
   ]
  },
  {
   "cell_type": "markdown",
   "id": "5ae6a68e",
   "metadata": {},
   "source": [
    "## 7. Manipulando arquivos"
   ]
  },
  {
   "cell_type": "markdown",
   "id": "3d75f1c4",
   "metadata": {},
   "source": [
    "Podemos trabalhar com arquivos de dados (csv). É importante fechar o arquivo após finalizar a utilização"
   ]
  },
  {
   "cell_type": "code",
   "execution_count": 34,
   "id": "4e0ddc96",
   "metadata": {},
   "outputs": [
    {
     "name": "stdout",
     "output_type": "stream",
     "text": [
      "Nome do aluno: Arnaldo,  Idade: 21\n",
      "Nome do aluno: Bernaldo,  Idade: 23\n",
      "Nome do aluno: Cernaldo,  Idade: 25\n",
      "Nome do aluno: Dernaldo,  Idade: 26\n",
      "Nome do aluno: Eernaldo,  Idade: 20\n",
      "Nome do aluno: Fernaldo,  Idade: 16\n"
     ]
    }
   ],
   "source": [
    "arquivo = open('alunos.csv')\n",
    "data_arquivo = arquivo.read()\n",
    "arquivo.close()\n",
    "\n",
    "for line in data_arquivo.splitlines():\n",
    "    print('Nome do aluno: {},  Idade: {}'.format(*line.split(',')))\n"
   ]
  },
  {
   "cell_type": "code",
   "execution_count": 35,
   "id": "3c472a63",
   "metadata": {
    "scrolled": false
   },
   "outputs": [
    {
     "name": "stdout",
     "output_type": "stream",
     "text": [
      "Nome do aluno: Arnaldo,  Idade: 21\n",
      "Nome do aluno: Bernaldo,  Idade: 23\n",
      "Nome do aluno: Cernaldo,  Idade: 25\n",
      "Nome do aluno: Dernaldo,  Idade: 26\n",
      "Nome do aluno: Eernaldo,  Idade: 20\n",
      "Nome do aluno: Fernaldo,  Idade: 16\n"
     ]
    }
   ],
   "source": [
    "# outra forma, mais inteligente\n",
    "# o strip() serve  para tirar espaço em branco nas extremidades\n",
    "try:\n",
    "    arquivo = open('alunos.csv')\n",
    "\n",
    "    for line in arquivo:\n",
    "        print('Nome do aluno: {},  Idade: {}'.format(*line.strip().split(',')))\n",
    "finally:\n",
    "    arquivo.close()"
   ]
  },
  {
   "cell_type": "markdown",
   "id": "2ac7c6e7",
   "metadata": {},
   "source": [
    "## 8. Comprehension"
   ]
  },
  {
   "cell_type": "markdown",
   "id": "0a7881de",
   "metadata": {},
   "source": [
    "Criar listas de forma mais rápida e concisa"
   ]
  },
  {
   "cell_type": "code",
   "execution_count": 36,
   "id": "3ad8af50",
   "metadata": {},
   "outputs": [
    {
     "name": "stdout",
     "output_type": "stream",
     "text": [
      "[0, 2, 4, 6, 8]\n",
      "[0, 2, 4, 6, 8]\n"
     ]
    }
   ],
   "source": [
    "pares = [i*2 for i in range(5)]\n",
    "print(pares)\n",
    "\n",
    "pares2 = []\n",
    "for i in range(5):\n",
    "    pares2.append(2*i)\n",
    "    \n",
    "print(pares2)"
   ]
  },
  {
   "cell_type": "code",
   "execution_count": 37,
   "id": "7c5b50e7",
   "metadata": {},
   "outputs": [
    {
     "name": "stdout",
     "output_type": "stream",
     "text": [
      "[0, 4, 8]\n"
     ]
    }
   ],
   "source": [
    "div_por_quatro = [i*2 for i in range(5) if i%2==0]\n",
    "print(div_por_quatro)"
   ]
  },
  {
   "cell_type": "code",
   "execution_count": 38,
   "id": "fe3917a3",
   "metadata": {},
   "outputs": [
    {
     "name": "stdout",
     "output_type": "stream",
     "text": [
      "[0, 1, 4, 9, 16, 25, 36, 49, 64, 81, 100, 121, 144, 169, 196, 225, 256, 289, 324, 361, 400]\n"
     ]
    }
   ],
   "source": [
    "gerador_de_numero = (i**2 for i in range(21))\n",
    "quadrados_perfeitos = [i for i in gerador_de_numero]\n",
    "\n",
    "print(quadrados_perfeitos)"
   ]
  },
  {
   "cell_type": "code",
   "execution_count": 39,
   "id": "5364703c",
   "metadata": {
    "scrolled": true
   },
   "outputs": [
    {
     "name": "stdout",
     "output_type": "stream",
     "text": [
      "{'Item 1': 1, 'Item 3': 9, 'Item 5': 25, 'Item 7': 49, 'Item 9': 81, 'Item 11': 121, 'Item 13': 169, 'Item 15': 225}\n"
     ]
    }
   ],
   "source": [
    "dicio = {f'Item {i}': i**2 for i in range(16) if i%2 !=0}\n",
    "print(dicio)"
   ]
  },
  {
   "cell_type": "code",
   "execution_count": 40,
   "id": "b076ea14",
   "metadata": {},
   "outputs": [
    {
     "name": "stdout",
     "output_type": "stream",
     "text": [
      "0: **erro\n",
      "1: Fim de semana\n",
      "2: Semana\n",
      "3: Semana\n",
      "4: Semana\n",
      "5: Semana\n",
      "6: Semana\n",
      "7: Fim de semana\n",
      "8: **erro\n"
     ]
    }
   ],
   "source": [
    "def get_tipo_dia(dia):\n",
    "    dias = {\n",
    "        (1, 7): 'Fim de semana',\n",
    "        tuple(range(2, 7)): 'Semana',\n",
    "    }\n",
    "    dia_dado = (tipo for numeros, tipo in dias.items() if dia in numeros)\n",
    "    return next(dia_dado, '**erro')\n",
    "\n",
    "for day in range(0, 9):\n",
    "    print(f'{day}: {get_tipo_dia(day)}')"
   ]
  },
  {
   "cell_type": "markdown",
   "id": "d21c130d",
   "metadata": {},
   "source": [
    "## 9. Funções"
   ]
  },
  {
   "cell_type": "markdown",
   "id": "8e7b837f",
   "metadata": {},
   "source": [
    "Função em Python é um objeto.\n",
    "\n",
    "Entrada/argumento/parâmetro (ou não) -> Função -> Saída (ou não)\n",
    "\n",
    "Parametros podem ser\n",
    "1. Posicionais: o que é chamado na função é colocado na ordem de definição, i.e., define-se func(p1, p2, p3, p4) ... e na chamada usa-se func('emanuel', 9, 21, 21), assume-se que p1 = 'emanuel', p2 = 9 e assim por diante\n",
    "2. Nomeados: em vez de colocar na ordem podemos colocar em uma ordem qualquer desde que seja indicado no padrao func(p3=21, p1='emanuel'...)\n",
    "\n",
    "Parametro opicional: se na definição da função eu já dar um valor para um parâmetro ele passa a ser o default, i.e., se não for passado nada na chamada da função será assumido aquilo."
   ]
  },
  {
   "cell_type": "markdown",
   "id": "e459f543",
   "metadata": {},
   "source": [
    "Parametros especiais\n",
    "1. *args -> gera uma tupla. \n",
    "2. **kwargs -> \"keyworded args\" gera um dicionário\n",
    "\n",
    "Packing e unpacking\n",
    "1. packing: Se na definição da função eu usar def func(*alguma_coisa), todos parametros virarao a tupla alguma_coisa\n",
    "2. unpacking: Se na chamada eu fizer conforme abaixo no soma_3"
   ]
  },
  {
   "cell_type": "code",
   "execution_count": 41,
   "id": "4c9f4c37",
   "metadata": {},
   "outputs": [
    {
     "name": "stdout",
     "output_type": "stream",
     "text": [
      "232\n",
      "4\n",
      "4\n"
     ]
    }
   ],
   "source": [
    "def soma_packing(*numeros):\n",
    "    soma = 0\n",
    "    for n in numeros:\n",
    "        soma = soma + n\n",
    "    return soma\n",
    "\n",
    "def soma_3(a, b, c):\n",
    "    return a+b+c\n",
    "\n",
    "print(soma_packing(1, 1, 2, 3, 5, 8, 13, 21, 34, 55, 89))\n",
    "\n",
    "# unpacking abaixo\n",
    "num = [1, 1, 2]\n",
    "print(soma_3(*num))\n",
    "\n",
    "num = (1, 1, 2)\n",
    "print(soma_3(*num))"
   ]
  },
  {
   "cell_type": "code",
   "execution_count": 48,
   "id": "76c5a234",
   "metadata": {},
   "outputs": [
    {
     "name": "stdout",
     "output_type": "stream",
     "text": [
      "Primeira forma:\n",
      "primeiro: Massa\n",
      "segundo: Hamilton\n",
      "terceiro: Barrichelo\n",
      "\n",
      "Segunda forma:\n",
      "1) Massa\n",
      "2) Hamilton\n",
      "3) Barrichelo\n"
     ]
    }
   ],
   "source": [
    "# agora sobre **kwargs\n",
    "def resultado_f1(**podium):\n",
    "    for posicao, piloto in podium.items():\n",
    "        print(f'{posicao}: {piloto}')\n",
    "\n",
    "print('Primeira forma:')\n",
    "resultado_f1(primeiro='Massa', segundo='Hamilton', terceiro='Barrichelo')\n",
    "\n",
    "def resultado_f1_v2(primeiro, segundo, terceiro):\n",
    "    print(f'1) {primeiro}')\n",
    "    print(f'2) {segundo}')\n",
    "    print(f'3) {terceiro}')\n",
    "\n",
    "print('\\nSegunda forma:')\n",
    "podium = {'primeiro': 'Massa', 'segundo': 'Hamilton', 'terceiro': 'Barrichelo'}\n",
    "resultado_f1_v2(**podium)"
   ]
  },
  {
   "cell_type": "markdown",
   "id": "c3081d9a",
   "metadata": {},
   "source": [
    "### 9.1 Callable: spoiler de programação funcional"
   ]
  },
  {
   "cell_type": "markdown",
   "id": "ec82b8d8",
   "metadata": {},
   "source": [
    "Podemos passar funções como parâmetro para outras funções, então é legal saber se o que estamos passando é \"callable\" antes de fazer algo com ele. Note no exemplo abaixo que, como '1' nao é função entao ele nao vai ser chamado e portanto nao vai gerar erro"
   ]
  },
  {
   "cell_type": "code",
   "execution_count": 45,
   "id": "8440b0f8",
   "metadata": {},
   "outputs": [],
   "source": [
    "def executar_funcao(funcao):\n",
    "    if callable(funcao):\n",
    "        funcao()\n",
    "\n",
    "executar_funcao(1)"
   ]
  },
  {
   "cell_type": "code",
   "execution_count": 51,
   "id": "4baf803d",
   "metadata": {},
   "outputs": [
    {
     "name": "stdout",
     "output_type": "stream",
     "text": [
      "71.428316\n"
     ]
    }
   ],
   "source": [
    "#Callable com vários parametros e funções com parâmetros\n",
    "\n",
    "def calc_preco_final(preco_bruto, calc_imposto, *params):\n",
    "    return preco_bruto + preco_bruto*calc_imposto(*params)\n",
    "\n",
    "def imposto_x(importado):\n",
    "    return 0.22 if importado else 0.13\n",
    "\n",
    "def imposto_y(explosivo, fator_mult=1):\n",
    "    return 0.11*fator_mult if explosivo else 0\n",
    "\n",
    "preco_inicial = 47.99\n",
    "preco_final = calc_preco_final(preco_inicial, imposto_x, True)\n",
    "preco_final = calc_preco_final(preco_final, imposto_y, True, 2)\n",
    "print(preco_final)"
   ]
  },
  {
   "cell_type": "markdown",
   "id": "07cfc9a0",
   "metadata": {},
   "source": [
    "### 9.2 Pegando todos os parâmetros"
   ]
  },
  {
   "cell_type": "code",
   "execution_count": 54,
   "id": "52fe0516",
   "metadata": {},
   "outputs": [
    {
     "name": "stdout",
     "output_type": "stream",
     "text": [
      "args: ('emanuel', 'reinaldo', True, [3, 14, 15, 92, 6])\n",
      "kwargs: {'nome': 'Emanuel', 'sobrenome1': 'Reinaldo'}\n"
     ]
    }
   ],
   "source": [
    "def todos_params(*args, **kwargs):\n",
    "    print(f'args: {args}')\n",
    "    print(f'kwargs: {kwargs}')\n",
    "\n",
    "todos_params('emanuel', 'reinaldo', True, [3, 14, 15, 92, 6], nome='Emanuel', sobrenome1='Reinaldo')"
   ]
  },
  {
   "cell_type": "code",
   "execution_count": null,
   "id": "b408b5e6",
   "metadata": {},
   "outputs": [],
   "source": []
  }
 ],
 "metadata": {
  "kernelspec": {
   "display_name": "Python 3 (ipykernel)",
   "language": "python",
   "name": "python3"
  },
  "language_info": {
   "codemirror_mode": {
    "name": "ipython",
    "version": 3
   },
   "file_extension": ".py",
   "mimetype": "text/x-python",
   "name": "python",
   "nbconvert_exporter": "python",
   "pygments_lexer": "ipython3",
   "version": "3.9.7"
  }
 },
 "nbformat": 4,
 "nbformat_minor": 5
}
